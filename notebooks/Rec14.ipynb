{
 "cells": [
  {
   "cell_type": "markdown",
   "metadata": {
    "tags": []
   },
   "source": [
    "# Recitation 14"
   ]
  },
  {
   "cell_type": "markdown",
   "metadata": {},
   "source": [
    "___\n",
    "\n",
    "**Important**: Keep in mind that if you create several versions of a class, only the **last defined class** will be graded by the autograder. Also, when you make modifications to a class, **any previously created objects will need to be recreated**."
   ]
  },
  {
   "cell_type": "code",
   "execution_count": 1,
   "metadata": {},
   "outputs": [],
   "source": [
    "import numpy as np\n",
    "import pandas as pd\n",
    "import matplotlib.pyplot as plt"
   ]
  },
  {
   "cell_type": "markdown",
   "metadata": {},
   "source": [
    "### String Slicing in Pandas\n",
    "To slice a string in pandas, use the `.str[start:stop]` syntax. For example, if `word` refers to a DataFrame entry, then `word.str[1:3]` returns the 2nd and 3rd characters in `word`.\n",
    "\n",
    "### Leading Zeros in f-Strings\n",
    "Suppose you wish to convert `num=95` to string format using 4 characters, then `f'{num:4}'` will return `'  95'` with leading blanks. To produce leading zeros instead of blanks, type `f'{num:04}'`.\n",
    "\n",
    "___"
   ]
  },
  {
   "cell_type": "markdown",
   "metadata": {},
   "source": [
    "### DailyTemp Class\n",
    "**Create a `class` called `DailyTemp`** which will store the minimum and maximum daily temperatures for each day in a single year for a single weather station. It will contain the following attributes:\n",
    "\n",
    "* `df`: a DataFrame containing the temperature data with column names `STATION_NAME`, `DATE`, `TMIN`, `TMAX`, `TAVG`\n",
    "* `station`: name of the weather station\n",
    "* `year`: year in `int` format\n",
    "\n",
    "The `__init__()` method will do the following:\n",
    "* **Take a csv filename as input.** The file will contain max/min temperature data with column headers named `STATION_NAME`, `DATE`, `TMIN`, `TMAX`.\n",
    "* **Read in the file** and **convert into a DataFrame** `df`.\n",
    "* **Drop all rows** containing missing values by calling `df.dropna(inplace=True)`.\n",
    "* Each DATE is a number in YYYYMMDD format. **Convert the `DATE` column to `str` type.**\n",
    "* **Add a column called `TAVG`** which equals the average of the TMIN and TMAX temperatures for each day.\n",
    "\n",
    "**Examples**\n",
    "```\n",
    "temp19 = DailyTemp('boulder-temps-2019.csv')\n",
    "temp19.df.iloc[350]\n",
    "```\n",
    "displays\n",
    "```\n",
    "STATION_NAME    BOULDER CO US\n",
    "DATE                 20191218\n",
    "TMIN                     19.0\n",
    "TMAX                       54\n",
    "TAVG                     36.5\n",
    "Name: 351, dtype: object\n",
    "```\n",
    "and\n",
    "```\n",
    "temp19.station, temp19.year\n",
    "```\n",
    "displays\n",
    "```\n",
    "('BOULDER CO US', 2019)\n",
    "```"
   ]
  },
  {
   "cell_type": "code",
   "execution_count": 7,
   "metadata": {},
   "outputs": [
    {
     "data": {
      "text/html": [
       "<div>\n",
       "<style scoped>\n",
       "    .dataframe tbody tr th:only-of-type {\n",
       "        vertical-align: middle;\n",
       "    }\n",
       "\n",
       "    .dataframe tbody tr th {\n",
       "        vertical-align: top;\n",
       "    }\n",
       "\n",
       "    .dataframe thead th {\n",
       "        text-align: right;\n",
       "    }\n",
       "</style>\n",
       "<table border=\"1\" class=\"dataframe\">\n",
       "  <thead>\n",
       "    <tr style=\"text-align: right;\">\n",
       "      <th></th>\n",
       "      <th>STATION_NAME</th>\n",
       "      <th>DATE</th>\n",
       "      <th>TMIN</th>\n",
       "      <th>TMAX</th>\n",
       "      <th>TAVG</th>\n",
       "    </tr>\n",
       "  </thead>\n",
       "  <tbody>\n",
       "    <tr>\n",
       "      <th>0</th>\n",
       "      <td>BOULDER CO US</td>\n",
       "      <td>20190101</td>\n",
       "      <td>2.0</td>\n",
       "      <td>15</td>\n",
       "      <td>8.5</td>\n",
       "    </tr>\n",
       "    <tr>\n",
       "      <th>1</th>\n",
       "      <td>BOULDER CO US</td>\n",
       "      <td>20190102</td>\n",
       "      <td>1.0</td>\n",
       "      <td>41</td>\n",
       "      <td>21.0</td>\n",
       "    </tr>\n",
       "    <tr>\n",
       "      <th>2</th>\n",
       "      <td>BOULDER CO US</td>\n",
       "      <td>20190103</td>\n",
       "      <td>22.0</td>\n",
       "      <td>56</td>\n",
       "      <td>39.0</td>\n",
       "    </tr>\n",
       "    <tr>\n",
       "      <th>3</th>\n",
       "      <td>BOULDER CO US</td>\n",
       "      <td>20190104</td>\n",
       "      <td>17.0</td>\n",
       "      <td>61</td>\n",
       "      <td>39.0</td>\n",
       "    </tr>\n",
       "    <tr>\n",
       "      <th>4</th>\n",
       "      <td>BOULDER CO US</td>\n",
       "      <td>20190105</td>\n",
       "      <td>32.0</td>\n",
       "      <td>60</td>\n",
       "      <td>46.0</td>\n",
       "    </tr>\n",
       "  </tbody>\n",
       "</table>\n",
       "</div>"
      ],
      "text/plain": [
       "    STATION_NAME      DATE  TMIN  TMAX  TAVG\n",
       "0  BOULDER CO US  20190101   2.0    15   8.5\n",
       "1  BOULDER CO US  20190102   1.0    41  21.0\n",
       "2  BOULDER CO US  20190103  22.0    56  39.0\n",
       "3  BOULDER CO US  20190104  17.0    61  39.0\n",
       "4  BOULDER CO US  20190105  32.0    60  46.0"
      ]
     },
     "execution_count": 7,
     "metadata": {},
     "output_type": "execute_result"
    }
   ],
   "source": [
    "class DailyTemp:\n",
    "    def __init__(self,filename):\n",
    "        self.df = pd.read_csv(filename)\n",
    "        self.df.dropna(inplace=True)\n",
    "        self.df[\"DATE\"]=self.df[\"DATE\"].astype(\"str\")\n",
    "        self.df[\"TAVG\"]= (self.df[\"TMIN\"]+self.df[\"TMAX\"])/2\n",
    "        self.station=self.df.STATION_NAME[0]\n",
    "        self.year = int(self.df[\"DATE\"][0][:4])\n",
    "\n",
    "temp19 = DailyTemp('boulder-temps-2019.csv')\n",
    "temp19.df.head()          "
   ]
  },
  {
   "cell_type": "markdown",
   "metadata": {},
   "source": [
    "**Add the following methods:**\n",
    "* `year_stats()`: returns the `TAVG` mean, standard deviation (std), max, and min values for the year as a Series. Use `describe()`.\n",
    "* `month_stats(month)`: similar to `year_stats()` except the stats for a given month are returned.\n",
    "* `hottest_day()`: returns the date corresponding to the max temperature of the year. The format of the result should be 'Mmm DD, YYYY', with no leading zero for DD. If there is more than one date, return the first one in the DataFrame.\n",
    "* `coldest_day()`: similar to `hottest_day()` except for the min temperature of the year.\n",
    "\n",
    "**Examples**\n",
    "\n",
    "```\n",
    "temp19.year_stats()\n",
    "```\n",
    "displays\n",
    "```\n",
    "mean    50.350275\n",
    "std     17.303091\n",
    "max     80.000000\n",
    "min      5.500000\n",
    "Name: TAVG, dtype: float64\n",
    "```\n",
    "and\n",
    "```\n",
    "temp19.coldest_day()\n",
    "```\n",
    "returns\n",
    "```\n",
    "'Feb 7, 2019'\n",
    "```"
   ]
  },
  {
   "cell_type": "code",
   "execution_count": 6,
   "metadata": {
    "tags": []
   },
   "outputs": [
    {
     "name": "stderr",
     "output_type": "stream",
     "text": [
      "/var/folders/wk/8vd029mj3mbgl94lf5r5m9080000gn/T/ipykernel_49352/194651897.py:10: UserWarning: Boolean Series key will be reindexed to match DataFrame index.\n",
      "  month_df = self.df[self.df[\"DATE\"][4:6]==num]\n"
     ]
    },
    {
     "ename": "IndexingError",
     "evalue": "Unalignable boolean Series provided as indexer (index of the boolean Series and of the indexed object do not match).",
     "output_type": "error",
     "traceback": [
      "\u001b[0;31m---------------------------------------------------------------------------\u001b[0m",
      "\u001b[0;31mIndexingError\u001b[0m                             Traceback (most recent call last)",
      "Input \u001b[0;32mIn [6]\u001b[0m, in \u001b[0;36m<cell line: 15>\u001b[0;34m()\u001b[0m\n\u001b[1;32m     12\u001b[0m         \u001b[38;5;66;03m#return pd.Series(self.df[self.df[\"DATE\"][5:7]==month_index_dict[month]])\u001b[39;00m\n\u001b[1;32m     14\u001b[0m temp19 \u001b[38;5;241m=\u001b[39m DailyTemp(\u001b[38;5;124m'\u001b[39m\u001b[38;5;124mboulder-temps-2019.csv\u001b[39m\u001b[38;5;124m'\u001b[39m)\n\u001b[0;32m---> 15\u001b[0m \u001b[43mtemp19\u001b[49m\u001b[38;5;241;43m.\u001b[39;49m\u001b[43mmonth_stats\u001b[49m\u001b[43m(\u001b[49m\u001b[38;5;124;43m\"\u001b[39;49m\u001b[38;5;124;43mJan\u001b[39;49m\u001b[38;5;124;43m\"\u001b[39;49m\u001b[43m)\u001b[49m\n",
      "Input \u001b[0;32mIn [6]\u001b[0m, in \u001b[0;36mDailyTemp.month_stats\u001b[0;34m(self, month)\u001b[0m\n\u001b[1;32m      8\u001b[0m \u001b[38;5;28;01mdef\u001b[39;00m \u001b[38;5;21mmonth_stats\u001b[39m(\u001b[38;5;28mself\u001b[39m,month):\n\u001b[1;32m      9\u001b[0m     num \u001b[38;5;241m=\u001b[39m month_index_dict[month]\n\u001b[0;32m---> 10\u001b[0m     month_df \u001b[38;5;241m=\u001b[39m \u001b[38;5;28;43mself\u001b[39;49m\u001b[38;5;241;43m.\u001b[39;49m\u001b[43mdf\u001b[49m\u001b[43m[\u001b[49m\u001b[38;5;28;43mself\u001b[39;49m\u001b[38;5;241;43m.\u001b[39;49m\u001b[43mdf\u001b[49m\u001b[43m[\u001b[49m\u001b[38;5;124;43m\"\u001b[39;49m\u001b[38;5;124;43mDATE\u001b[39;49m\u001b[38;5;124;43m\"\u001b[39;49m\u001b[43m]\u001b[49m\u001b[43m[\u001b[49m\u001b[38;5;241;43m4\u001b[39;49m\u001b[43m:\u001b[49m\u001b[38;5;241;43m6\u001b[39;49m\u001b[43m]\u001b[49m\u001b[38;5;241;43m==\u001b[39;49m\u001b[43mnum\u001b[49m\u001b[43m]\u001b[49m\n\u001b[1;32m     11\u001b[0m     \u001b[38;5;28;01mreturn\u001b[39;00m pd\u001b[38;5;241m.\u001b[39mSeries(month_df\u001b[38;5;241m.\u001b[39mdescribe()[\u001b[38;5;124m\"\u001b[39m\u001b[38;5;124mTAVG\u001b[39m\u001b[38;5;124m\"\u001b[39m][[\u001b[38;5;124m\"\u001b[39m\u001b[38;5;124mmean\u001b[39m\u001b[38;5;124m\"\u001b[39m,\u001b[38;5;124m\"\u001b[39m\u001b[38;5;124mstd\u001b[39m\u001b[38;5;124m\"\u001b[39m,\u001b[38;5;124m\"\u001b[39m\u001b[38;5;124mmax\u001b[39m\u001b[38;5;124m\"\u001b[39m,\u001b[38;5;124m\"\u001b[39m\u001b[38;5;124mmin\u001b[39m\u001b[38;5;124m\"\u001b[39m]])\n",
      "File \u001b[0;32m~/opt/anaconda3/lib/python3.9/site-packages/pandas/core/frame.py:3496\u001b[0m, in \u001b[0;36mDataFrame.__getitem__\u001b[0;34m(self, key)\u001b[0m\n\u001b[1;32m   3494\u001b[0m \u001b[38;5;66;03m# Do we have a (boolean) 1d indexer?\u001b[39;00m\n\u001b[1;32m   3495\u001b[0m \u001b[38;5;28;01mif\u001b[39;00m com\u001b[38;5;241m.\u001b[39mis_bool_indexer(key):\n\u001b[0;32m-> 3496\u001b[0m     \u001b[38;5;28;01mreturn\u001b[39;00m \u001b[38;5;28;43mself\u001b[39;49m\u001b[38;5;241;43m.\u001b[39;49m\u001b[43m_getitem_bool_array\u001b[49m\u001b[43m(\u001b[49m\u001b[43mkey\u001b[49m\u001b[43m)\u001b[49m\n\u001b[1;32m   3498\u001b[0m \u001b[38;5;66;03m# We are left with two options: a single key, and a collection of keys,\u001b[39;00m\n\u001b[1;32m   3499\u001b[0m \u001b[38;5;66;03m# We interpret tuples as collections only for non-MultiIndex\u001b[39;00m\n\u001b[1;32m   3500\u001b[0m is_single_key \u001b[38;5;241m=\u001b[39m \u001b[38;5;28misinstance\u001b[39m(key, \u001b[38;5;28mtuple\u001b[39m) \u001b[38;5;129;01mor\u001b[39;00m \u001b[38;5;129;01mnot\u001b[39;00m is_list_like(key)\n",
      "File \u001b[0;32m~/opt/anaconda3/lib/python3.9/site-packages/pandas/core/frame.py:3549\u001b[0m, in \u001b[0;36mDataFrame._getitem_bool_array\u001b[0;34m(self, key)\u001b[0m\n\u001b[1;32m   3543\u001b[0m     \u001b[38;5;28;01mraise\u001b[39;00m \u001b[38;5;167;01mValueError\u001b[39;00m(\n\u001b[1;32m   3544\u001b[0m         \u001b[38;5;124mf\u001b[39m\u001b[38;5;124m\"\u001b[39m\u001b[38;5;124mItem wrong length \u001b[39m\u001b[38;5;132;01m{\u001b[39;00m\u001b[38;5;28mlen\u001b[39m(key)\u001b[38;5;132;01m}\u001b[39;00m\u001b[38;5;124m instead of \u001b[39m\u001b[38;5;132;01m{\u001b[39;00m\u001b[38;5;28mlen\u001b[39m(\u001b[38;5;28mself\u001b[39m\u001b[38;5;241m.\u001b[39mindex)\u001b[38;5;132;01m}\u001b[39;00m\u001b[38;5;124m.\u001b[39m\u001b[38;5;124m\"\u001b[39m\n\u001b[1;32m   3545\u001b[0m     )\n\u001b[1;32m   3547\u001b[0m \u001b[38;5;66;03m# check_bool_indexer will throw exception if Series key cannot\u001b[39;00m\n\u001b[1;32m   3548\u001b[0m \u001b[38;5;66;03m# be reindexed to match DataFrame rows\u001b[39;00m\n\u001b[0;32m-> 3549\u001b[0m key \u001b[38;5;241m=\u001b[39m \u001b[43mcheck_bool_indexer\u001b[49m\u001b[43m(\u001b[49m\u001b[38;5;28;43mself\u001b[39;49m\u001b[38;5;241;43m.\u001b[39;49m\u001b[43mindex\u001b[49m\u001b[43m,\u001b[49m\u001b[43m \u001b[49m\u001b[43mkey\u001b[49m\u001b[43m)\u001b[49m\n\u001b[1;32m   3550\u001b[0m indexer \u001b[38;5;241m=\u001b[39m key\u001b[38;5;241m.\u001b[39mnonzero()[\u001b[38;5;241m0\u001b[39m]\n\u001b[1;32m   3551\u001b[0m \u001b[38;5;28;01mreturn\u001b[39;00m \u001b[38;5;28mself\u001b[39m\u001b[38;5;241m.\u001b[39m_take_with_is_copy(indexer, axis\u001b[38;5;241m=\u001b[39m\u001b[38;5;241m0\u001b[39m)\n",
      "File \u001b[0;32m~/opt/anaconda3/lib/python3.9/site-packages/pandas/core/indexing.py:2383\u001b[0m, in \u001b[0;36mcheck_bool_indexer\u001b[0;34m(index, key)\u001b[0m\n\u001b[1;32m   2381\u001b[0m     mask \u001b[38;5;241m=\u001b[39m isna(result\u001b[38;5;241m.\u001b[39m_values)\n\u001b[1;32m   2382\u001b[0m     \u001b[38;5;28;01mif\u001b[39;00m mask\u001b[38;5;241m.\u001b[39many():\n\u001b[0;32m-> 2383\u001b[0m         \u001b[38;5;28;01mraise\u001b[39;00m IndexingError(\n\u001b[1;32m   2384\u001b[0m             \u001b[38;5;124m\"\u001b[39m\u001b[38;5;124mUnalignable boolean Series provided as \u001b[39m\u001b[38;5;124m\"\u001b[39m\n\u001b[1;32m   2385\u001b[0m             \u001b[38;5;124m\"\u001b[39m\u001b[38;5;124mindexer (index of the boolean Series and of \u001b[39m\u001b[38;5;124m\"\u001b[39m\n\u001b[1;32m   2386\u001b[0m             \u001b[38;5;124m\"\u001b[39m\u001b[38;5;124mthe indexed object do not match).\u001b[39m\u001b[38;5;124m\"\u001b[39m\n\u001b[1;32m   2387\u001b[0m         )\n\u001b[1;32m   2388\u001b[0m     \u001b[38;5;28;01mreturn\u001b[39;00m result\u001b[38;5;241m.\u001b[39mastype(\u001b[38;5;28mbool\u001b[39m)\u001b[38;5;241m.\u001b[39m_values\n\u001b[1;32m   2389\u001b[0m \u001b[38;5;28;01mif\u001b[39;00m is_object_dtype(key):\n\u001b[1;32m   2390\u001b[0m     \u001b[38;5;66;03m# key might be object-dtype bool, check_array_indexer needs bool array\u001b[39;00m\n",
      "\u001b[0;31mIndexingError\u001b[0m: Unalignable boolean Series provided as indexer (index of the boolean Series and of the indexed object do not match)."
     ]
    }
   ],
   "source": [
    "# these month abbreviations are provided\n",
    "month_abbr = ['Jan', 'Feb', 'Mar', 'Apr', 'May', 'Jun', 'Jul', 'Aug', 'Sep', 'Oct', 'Nov', 'Dec']\n",
    "numeric = [\"01\",\"02\",'03','04','05','06','07','08','09','10','11','12']\n",
    "month_index_dict = dict(zip(month_abbr,numeric))\n",
    "class DailyTemp(DailyTemp):\n",
    "    def year_stats(self):\n",
    "        return pd.Series(self.df.describe()[\"TAVG\"][[\"mean\",\"std\",\"max\",\"min\"]])\n",
    "    def month_stats(self,month):\n",
    "        num = month_index_dict[month]\n",
    "        month_df = self.df[self.df[\"DATE\"][4:6]==num]\n",
    "        return pd.Series(month_df.describe()[\"TAVG\"][[\"mean\",\"std\",\"max\",\"min\"]])\n",
    "        #return pd.Series(self.df[self.df[\"DATE\"][5:7]==month_index_dict[month]])\n",
    "    \n",
    "temp19 = DailyTemp('boulder-temps-2019.csv')\n",
    "temp19.month_stats(\"Jan\")      "
   ]
  },
  {
   "cell_type": "code",
   "execution_count": null,
   "metadata": {},
   "outputs": [],
   "source": []
  },
  {
   "cell_type": "markdown",
   "metadata": {},
   "source": [
    "___\n",
    "\n",
    "# Extra Problems\n",
    "Work on these problems after completing the previous exercises."
   ]
  },
  {
   "cell_type": "markdown",
   "metadata": {},
   "source": [
    "**Add the following methods:**\n",
    "* `plot(month)`: plots the daily temperatures for a given month. If the month is not provided, the annual data is used.\n",
    "* `bar(month)`: displays a bar chart showing the TAVG for each day of the given month. If the month is not provided, a bar chart showing the average TAVG for each month of the year is displayed.\n",
    "\n",
    "**Examples**  \n",
    "The results for `.plot()`, `.plot(1)`, `.bar()`, `.bar(1)` are shown below.\n",
    "\n",
    "<img src=\"http://www.coloradomath.org/python/temp_plot_yr.jpg\" /> <img src=\"http://www.coloradomath.org/python/temp_plot_jan.jpg\" />\n",
    "\n",
    "<img src=\"http://www.coloradomath.org/python/temp_bar_yr.jpg\" /> <img src=\"http://www.coloradomath.org/python/temp_bar_jan.jpg\" />\n",
    "\n"
   ]
  },
  {
   "cell_type": "code",
   "execution_count": null,
   "metadata": {},
   "outputs": [],
   "source": []
  }
 ],
 "metadata": {
  "kernelspec": {
   "display_name": "Python 3 (ipykernel)",
   "language": "python",
   "name": "python3"
  },
  "language_info": {
   "codemirror_mode": {
    "name": "ipython",
    "version": 3
   },
   "file_extension": ".py",
   "mimetype": "text/x-python",
   "name": "python",
   "nbconvert_exporter": "python",
   "pygments_lexer": "ipython3",
   "version": "3.9.12"
  }
 },
 "nbformat": 4,
 "nbformat_minor": 4
}
